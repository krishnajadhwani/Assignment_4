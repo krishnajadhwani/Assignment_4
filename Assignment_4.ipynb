{
 "cells": [
  {
   "cell_type": "markdown",
   "id": "d48daa9d-53d1-436e-b265-a8b61a64f552",
   "metadata": {},
   "source": [
    "Q1.explain class and object with respect to object-oriented Programming . Give a suitable example"
   ]
  },
  {
   "cell_type": "code",
   "execution_count": 1,
   "id": "cd15e859-e810-4309-bf7f-8e278a645909",
   "metadata": {},
   "outputs": [
    {
     "name": "stdout",
     "output_type": "stream",
     "text": [
      "Toyota Camry 2022 Silver\n",
      "Honda Civic 2023 Red\n",
      "Engine started.\n",
      "Engine started.\n",
      "Engine stopped.\n"
     ]
    }
   ],
   "source": [
    "# Class definition\n",
    "class Car:\n",
    "    # Constructor method to initialize the attributes\n",
    "    def __init__(self, make, model, year, color):\n",
    "        self.make = make\n",
    "        self.model = model\n",
    "        self.year = year\n",
    "        self.color = color\n",
    "        self.is_engine_on = False\n",
    "\n",
    "    # Method to start the car's engine\n",
    "    def start_engine(self):\n",
    "        self.is_engine_on = True\n",
    "        print(\"Engine started.\")\n",
    "\n",
    "    # Method to stop the car's engine\n",
    "    def stop_engine(self):\n",
    "        self.is_engine_on = False\n",
    "        print(\"Engine stopped.\")\n",
    "\n",
    "# Creating objects of the Car class\n",
    "car1 = Car(\"Toyota\", \"Camry\", 2022, \"Silver\")\n",
    "car2 = Car(\"Honda\", \"Civic\", 2023, \"Red\")\n",
    "\n",
    "# Accessing attributes of objects\n",
    "print(car1.make, car1.model, car1.year, car1.color)  # Output: Toyota Camry 2022 Silver\n",
    "print(car2.make, car2.model, car2.year, car2.color)  # Output: Honda Civic 2023 Red\n",
    "\n",
    "# Calling methods on objects\n",
    "car1.start_engine()  # Output: Engine started.\n",
    "car2.start_engine()  # Output: Engine started.\n",
    "\n",
    "# Stopping the engine of car2\n",
    "car2.stop_engine()  # Output: Engine stopped."
   ]
  },
  {
   "cell_type": "markdown",
   "id": "53a6f5d0-38df-444e-ab1d-4d57e08c7f9d",
   "metadata": {},
   "source": [
    "Q2. Name the four pillar of OOPS"
   ]
  },
  {
   "cell_type": "markdown",
   "id": "5ca0188f-85e8-4112-b158-4eed6ba4e512",
   "metadata": {},
   "source": [
    "The four pillars of object-oriented programming (OOP) are:\n",
    "\n",
    "1.Encapsulation:\n",
    "\n",
    "Encapsulation is the principle of bundling data (attributes) and methods (functions) that operate on that data within a single unit, which is the class.\n",
    "The class acts as a protective container that hides the internal implementation details of the object from the outside world.\n",
    "Access to the data and methods is typically provided through public, private, and protected access modifiers, controlling the visibility and accessibility of these members.\n",
    "Abstraction:\n",
    "\n",
    "Abstraction is the process of simplifying complex real-world entities into their essential characteristics, representing only the relevant features while hiding unnecessary details.\n",
    "It allows you to create abstract classes or interfaces that define the structure and behavior of objects without specifying the implementation.\n",
    "Abstraction enables developers to focus on what an object does rather than how it does it, promoting a high level of modularity and reducing code complexity.\n",
    "Inheritance:\n",
    "\n",
    "Inheritance is a mechanism that allows a class (the subclass or derived class) to inherit properties and behaviors from another class (the superclass or base class).\n",
    "The subclass can extend and specialize the functionality of the superclass, inheriting its attributes and methods while adding new ones or overriding existing ones.\n",
    "This facilitates code reuse, as common characteristics can be defined in a base class and shared across multiple subclasses, reducing redundant code.\n",
    "Polymorphism:\n",
    "\n",
    "Polymorphism means the ability of a class or method to take on multiple forms.\n",
    "There are two types of polymorphism in OOP: compile-time (method overloading) and runtime (method overriding).\n",
    "Method overloading allows a class to have multiple methods with the same name but different parameters, and the appropriate method is selected based on the number or type of arguments during compile-time.\n",
    "Method overriding occurs when a subclass provides a specific implementation for a method that is already defined in its superclass, allowing objects of different classes to be treated uniformly through a common interface.\n",
    "These four pillars together form the foundation of object-oriented programming and are essential for creating flexible, modular, and maintainable software systems.\n"
   ]
  },
  {
   "cell_type": "markdown",
   "id": "6d709a07-6ac2-4b0a-aade-cae74e973716",
   "metadata": {},
   "source": [
    "Q3. Explain why the__init__() functions is used. Give a suitable example"
   ]
  },
  {
   "cell_type": "markdown",
   "id": "2dc1ac66-802c-484b-a50e-157327355797",
   "metadata": {},
   "source": [
    "The __init__() function is a special method in Python classes that is automatically called when an object of the class is created. It is known as the constructor method because it is used to initialize the attributes (data members) of the newly created object. This allows you to set initial values for the object's state and prepare it for use.\n",
    "\n",
    "When you create an instance of a class, the __init__() method is called implicitly, and you can provide arguments to this method to pass initial values to the object's attributes. It is not mandatory to have an __init__() method in a class, but it is commonly used to ensure that objects are correctly initialized when they are created.\n",
    "\n",
    "\n",
    "\n",
    "\n",
    "\n"
   ]
  },
  {
   "cell_type": "code",
   "execution_count": 3,
   "id": "5b3263d0-9e6c-499b-a2a2-47e1a69d7a9a",
   "metadata": {},
   "outputs": [
    {
     "name": "stdout",
     "output_type": "stream",
     "text": [
      "Name: Alice, Age: 30\n",
      "Name: Bob, Age: 25\n"
     ]
    }
   ],
   "source": [
    "class Person:\n",
    "    # Constructor method to initialize attributes\n",
    "    def __init__(self, name, age):\n",
    "        self.name = name\n",
    "        self.age = age\n",
    "\n",
    "    # Method to display the person's details\n",
    "    def display_info(self):\n",
    "        print(f\"Name: {self.name}, Age: {self.age}\")\n",
    "\n",
    "# Creating objects of the Person class\n",
    "person1 = Person(\"Alice\", 30)\n",
    "person2 = Person(\"Bob\", 25)\n",
    "\n",
    "# Displaying information of the persons\n",
    "person1.display_info()  # Output: Name: Alice, Age: 30\n",
    "person2.display_info()  # Output: Name: Bob, Age: 25"
   ]
  },
  {
   "cell_type": "markdown",
   "id": "c135888a-fc3c-4a9f-8cbc-05382e46bf8c",
   "metadata": {},
   "source": [
    "Q4. Why self is used in OOPs?"
   ]
  },
  {
   "cell_type": "markdown",
   "id": "0edacc0c-8df3-4756-bac3-bbe2ea90a5b9",
   "metadata": {},
   "source": [
    "In object-oriented programming (OOP), self is a convention used as the first parameter in method definitions within a class. It represents the instance of the class (i.e., the object) that the method is associated with. When a method is called on an object, the object itself is automatically passed as the first argument to the method, and it is assigned to the self parameter.\n",
    "\n",
    "The use of self is essential because it allows methods to access and operate on the attributes and other methods of the object to which they belong. Without self, methods would not know which object's data to operate on, leading to ambiguity and incorrect behavior."
   ]
  },
  {
   "cell_type": "markdown",
   "id": "12d77680-9843-400c-8ed2-bf6fc75805c8",
   "metadata": {},
   "source": [
    "Q5. What is inheritance? Give AN example for each type of inheritance."
   ]
  },
  {
   "cell_type": "markdown",
   "id": "8e64a525-6238-4e4a-9639-633c0de3d3a2",
   "metadata": {},
   "source": [
    "Inheritance is a fundamental concept in object-oriented programming (OOP) that allows a class (the subclass or derived class) to inherit properties and behaviors from another class (the superclass or base class). The subclass can extend or specialize the functionality of the superclass while reusing its attributes and methods. This promotes code reuse, modularity, and a hierarchical organization of classes.\n",
    "\n",
    "There are several types of inheritance:\n",
    "\n",
    "Single Inheritance:\n",
    "Single inheritance is when a class inherits from only one superclass.\n",
    "It forms a simple parent-child relationship, where the subclass inherits the attributes and methods of a single base class.\n",
    "Example of Single Inheritance:"
   ]
  },
  {
   "cell_type": "code",
   "execution_count": 5,
   "id": "313c6bfd-4af4-4eb7-a4f9-091e87dc2534",
   "metadata": {},
   "outputs": [
    {
     "name": "stdout",
     "output_type": "stream",
     "text": [
      "Buddy\n",
      "Woof!\n"
     ]
    }
   ],
   "source": [
    "# Base class\n",
    "class Animal:\n",
    "    def __init__(self, name):\n",
    "        self.name = name\n",
    "\n",
    "    def make_sound(self):\n",
    "        pass  # Placeholder method, to be overridden in subclasses\n",
    "\n",
    "# Subclass inheriting from Animal\n",
    "class Dog(Animal):\n",
    "    def make_sound(self):\n",
    "        return \"Woof!\"\n",
    "\n",
    "# Creating a Dog object and calling its method\n",
    "dog1 = Dog(\"Buddy\")\n",
    "print(dog1.name)  # Output: Buddy\n",
    "print(dog1.make_sound())  # Output: Woof!"
   ]
  },
  {
   "cell_type": "code",
   "execution_count": null,
   "id": "686b8056-eaa1-49fa-bfe8-90eaad47cbad",
   "metadata": {},
   "outputs": [],
   "source": []
  }
 ],
 "metadata": {
  "kernelspec": {
   "display_name": "Python 3 (ipykernel)",
   "language": "python",
   "name": "python3"
  },
  "language_info": {
   "codemirror_mode": {
    "name": "ipython",
    "version": 3
   },
   "file_extension": ".py",
   "mimetype": "text/x-python",
   "name": "python",
   "nbconvert_exporter": "python",
   "pygments_lexer": "ipython3",
   "version": "3.10.8"
  }
 },
 "nbformat": 4,
 "nbformat_minor": 5
}
